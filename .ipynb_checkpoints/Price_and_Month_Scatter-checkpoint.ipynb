{
 "cells": [
  {
   "cell_type": "markdown",
   "metadata": {},
   "source": [
    "__Introduction:__ Insert stuff here"
   ]
  },
  {
   "cell_type": "code",
   "execution_count": 1,
   "metadata": {},
   "outputs": [],
   "source": [
    "#Import dependencies/libraries for analysis\n",
    "import pandas as pd\n",
    "import matplotlib.pyplot as plt\n",
    "import numpy as np\n",
    "import csv\n",
    "import scipy.stats as sts"
   ]
  },
  {
   "cell_type": "code",
   "execution_count": 2,
   "metadata": {
    "scrolled": true
   },
   "outputs": [
    {
     "data": {
      "text/html": [
       "<div>\n",
       "<style scoped>\n",
       "    .dataframe tbody tr th:only-of-type {\n",
       "        vertical-align: middle;\n",
       "    }\n",
       "\n",
       "    .dataframe tbody tr th {\n",
       "        vertical-align: top;\n",
       "    }\n",
       "\n",
       "    .dataframe thead th {\n",
       "        text-align: right;\n",
       "    }\n",
       "</style>\n",
       "<table border=\"1\" class=\"dataframe\">\n",
       "  <thead>\n",
       "    <tr style=\"text-align: right;\">\n",
       "      <th></th>\n",
       "      <th>Year</th>\n",
       "      <th>Month</th>\n",
       "      <th>Y/M</th>\n",
       "      <th>Median Sale Price</th>\n",
       "      <th>Location</th>\n",
       "    </tr>\n",
       "  </thead>\n",
       "  <tbody>\n",
       "    <tr>\n",
       "      <th>0</th>\n",
       "      <td>2009</td>\n",
       "      <td>January</td>\n",
       "      <td>2009-01</td>\n",
       "      <td>143267</td>\n",
       "      <td>MN</td>\n",
       "    </tr>\n",
       "    <tr>\n",
       "      <th>1</th>\n",
       "      <td>2009</td>\n",
       "      <td>February</td>\n",
       "      <td>2009-02</td>\n",
       "      <td>142117</td>\n",
       "      <td>MN</td>\n",
       "    </tr>\n",
       "    <tr>\n",
       "      <th>2</th>\n",
       "      <td>2009</td>\n",
       "      <td>March</td>\n",
       "      <td>2009-03</td>\n",
       "      <td>138750</td>\n",
       "      <td>MN</td>\n",
       "    </tr>\n",
       "    <tr>\n",
       "      <th>3</th>\n",
       "      <td>2009</td>\n",
       "      <td>April</td>\n",
       "      <td>2009-04</td>\n",
       "      <td>134950</td>\n",
       "      <td>MN</td>\n",
       "    </tr>\n",
       "    <tr>\n",
       "      <th>4</th>\n",
       "      <td>2009</td>\n",
       "      <td>May</td>\n",
       "      <td>2009-05</td>\n",
       "      <td>132083</td>\n",
       "      <td>MN</td>\n",
       "    </tr>\n",
       "  </tbody>\n",
       "</table>\n",
       "</div>"
      ],
      "text/plain": [
       "   Year     Month      Y/M  Median Sale Price Location\n",
       "0  2009   January  2009-01             143267       MN\n",
       "1  2009  February  2009-02             142117       MN\n",
       "2  2009     March  2009-03             138750       MN\n",
       "3  2009     April  2009-04             134950       MN\n",
       "4  2009       May  2009-05             132083       MN"
      ]
     },
     "execution_count": 2,
     "metadata": {},
     "output_type": "execute_result"
    }
   ],
   "source": [
    "#Create variable to save the location of Zillow csv file\n",
    "priceandmothfile = \"Median_Sales_Price_10yrs.csv\"\n",
    "#Retrieve data from csv file and create dataframe (df)\n",
    "df = pd.read_csv(priceandmothfile)\n",
    "df.head()"
   ]
  },
  {
   "cell_type": "code",
   "execution_count": null,
   "metadata": {},
   "outputs": [],
   "source": []
  },
  {
   "cell_type": "markdown",
   "metadata": {},
   "source": [
    "To slice and dice the data, code was used to select pieces of the data, based on year and location (US vs. Minnesota).  Mini dataframes were created to store smaller sub-sections of the data, which will be referenced later. "
   ]
  },
  {
   "cell_type": "code",
   "execution_count": 3,
   "metadata": {},
   "outputs": [],
   "source": [
    "#filters dataframes based on year\n",
    "#Creates df for 2009\n",
    "df_2009 = df.loc[df.Year==2009]\n",
    "#Creates df for 2010\n",
    "df_2010 = df.loc[df.Year==2010]\n",
    "#Creates df for 2011\n",
    "df_2011 = df.loc[df.Year==2011]\n",
    "#Creates df for 2012\n",
    "df_2012 = df.loc[df.Year==2012]\n",
    "#Creates df for 2013\n",
    "df_2013 = df.loc[df.Year==2013]\n",
    "#Creates df for 2014\n",
    "df_2014 = df.loc[df.Year==2014]\n",
    "#Creates df for 2015\n",
    "df_2015 = df.loc[df.Year==2015]\n",
    "#Creates df for 2016\n",
    "df_2016 = df.loc[df.Year==2016]\n",
    "#Creates df for 2017\n",
    "df_2017 = df.loc[df.Year==2017]\n",
    "#Creates df for 2018\n",
    "df_2018 = df.loc[df.Year==2018]\n",
    "#Creates df for 2019\n",
    "df_2019 = df.loc[df.Year==2019]"
   ]
  },
  {
   "cell_type": "code",
   "execution_count": 4,
   "metadata": {},
   "outputs": [],
   "source": [
    "#Create filtered dataframes for US by Year\n",
    "df_2009_usa=df_2009.loc[df_2009.Location==\"US\"]\n",
    "df_2010_usa=df_2010.loc[df_2010.Location==\"US\"]\n",
    "df_2011_usa=df_2011.loc[df_2011.Location==\"US\"]\n",
    "df_2012_usa=df_2012.loc[df_2012.Location==\"US\"]\n",
    "df_2013_usa=df_2013.loc[df_2013.Location==\"US\"]\n",
    "df_2014_usa=df_2014.loc[df_2014.Location==\"US\"]\n",
    "df_2015_usa=df_2015.loc[df_2015.Location==\"US\"]\n",
    "df_2016_usa=df_2016.loc[df_2016.Location==\"US\"]\n",
    "df_2017_usa=df_2017.loc[df_2017.Location==\"US\"]\n",
    "df_2018_usa=df_2018.loc[df_2018.Location==\"US\"]\n",
    "df_2019_usa=df_2019.loc[df_2019.Location==\"US\"]\n",
    "\n",
    "#Create filtered dataframes for MN by Year\n",
    "df_2009_mn=df_2009.loc[df_2009.Location==\"MN\"]\n",
    "df_2010_mn=df_2010.loc[df_2010.Location==\"MN\"]\n",
    "df_2011_mn=df_2011.loc[df_2011.Location==\"MN\"]\n",
    "df_2012_mn=df_2012.loc[df_2012.Location==\"MN\"]\n",
    "df_2013_mn=df_2013.loc[df_2013.Location==\"MN\"]\n",
    "df_2014_mn=df_2014.loc[df_2014.Location==\"MN\"]\n",
    "df_2015_mn=df_2015.loc[df_2015.Location==\"MN\"]\n",
    "df_2016_mn=df_2016.loc[df_2016.Location==\"MN\"]\n",
    "df_2017_mn=df_2017.loc[df_2017.Location==\"MN\"]\n",
    "df_2018_mn=df_2018.loc[df_2018.Location==\"MN\"]\n",
    "df_2019_mn=df_2019.loc[df_2019.Location==\"MN\"]"
   ]
  },
  {
   "cell_type": "markdown",
   "metadata": {},
   "source": [
    "After data is sectioned out, we can start to build our graphs.  The x and y axis are defined, along with a title and lables.  Colors are selected from a gradient scale of going from dark blue to yellow.  Here we want to compare median home prices against month, for the years 2017 - 2019.  In the first graph we do it for the US, and in the second graph, it is done for Minnesota.  "
   ]
  },
  {
   "cell_type": "code",
   "execution_count": 5,
   "metadata": {},
   "outputs": [
    {
     "ename": "ValueError",
     "evalue": "'c' argument has 12 elements, which is not acceptable for use with 'x' with size 0, 'y' with size 0.",
     "output_type": "error",
     "traceback": [
      "\u001b[1;31m---------------------------------------------------------------------------\u001b[0m",
      "\u001b[1;31mValueError\u001b[0m                                Traceback (most recent call last)",
      "\u001b[1;32m~\\anaconda3\\lib\\site-packages\\matplotlib\\axes\\_axes.py\u001b[0m in \u001b[0;36m_parse_scatter_color_args\u001b[1;34m(c, edgecolors, kwargs, xshape, yshape, get_next_color_func)\u001b[0m\n\u001b[0;32m   4283\u001b[0m             \u001b[1;32mtry\u001b[0m\u001b[1;33m:\u001b[0m  \u001b[1;31m# Then is 'c' acceptable as PathCollection facecolors?\u001b[0m\u001b[1;33m\u001b[0m\u001b[1;33m\u001b[0m\u001b[0m\n\u001b[1;32m-> 4284\u001b[1;33m                 \u001b[0mcolors\u001b[0m \u001b[1;33m=\u001b[0m \u001b[0mmcolors\u001b[0m\u001b[1;33m.\u001b[0m\u001b[0mto_rgba_array\u001b[0m\u001b[1;33m(\u001b[0m\u001b[0mc\u001b[0m\u001b[1;33m)\u001b[0m\u001b[1;33m\u001b[0m\u001b[1;33m\u001b[0m\u001b[0m\n\u001b[0m\u001b[0;32m   4285\u001b[0m                 \u001b[0mn_elem\u001b[0m \u001b[1;33m=\u001b[0m \u001b[0mcolors\u001b[0m\u001b[1;33m.\u001b[0m\u001b[0mshape\u001b[0m\u001b[1;33m[\u001b[0m\u001b[1;36m0\u001b[0m\u001b[1;33m]\u001b[0m\u001b[1;33m\u001b[0m\u001b[1;33m\u001b[0m\u001b[0m\n",
      "\u001b[1;32m~\\anaconda3\\lib\\site-packages\\matplotlib\\colors.py\u001b[0m in \u001b[0;36mto_rgba_array\u001b[1;34m(c, alpha)\u001b[0m\n\u001b[0;32m    293\u001b[0m     \u001b[1;32mfor\u001b[0m \u001b[0mi\u001b[0m\u001b[1;33m,\u001b[0m \u001b[0mcc\u001b[0m \u001b[1;32min\u001b[0m \u001b[0menumerate\u001b[0m\u001b[1;33m(\u001b[0m\u001b[0mc\u001b[0m\u001b[1;33m)\u001b[0m\u001b[1;33m:\u001b[0m\u001b[1;33m\u001b[0m\u001b[1;33m\u001b[0m\u001b[0m\n\u001b[1;32m--> 294\u001b[1;33m         \u001b[0mresult\u001b[0m\u001b[1;33m[\u001b[0m\u001b[0mi\u001b[0m\u001b[1;33m]\u001b[0m \u001b[1;33m=\u001b[0m \u001b[0mto_rgba\u001b[0m\u001b[1;33m(\u001b[0m\u001b[0mcc\u001b[0m\u001b[1;33m,\u001b[0m \u001b[0malpha\u001b[0m\u001b[1;33m)\u001b[0m\u001b[1;33m\u001b[0m\u001b[1;33m\u001b[0m\u001b[0m\n\u001b[0m\u001b[0;32m    295\u001b[0m     \u001b[1;32mreturn\u001b[0m \u001b[0mresult\u001b[0m\u001b[1;33m\u001b[0m\u001b[1;33m\u001b[0m\u001b[0m\n",
      "\u001b[1;32m~\\anaconda3\\lib\\site-packages\\matplotlib\\colors.py\u001b[0m in \u001b[0;36mto_rgba\u001b[1;34m(c, alpha)\u001b[0m\n\u001b[0;32m    176\u001b[0m     \u001b[1;32mif\u001b[0m \u001b[0mrgba\u001b[0m \u001b[1;32mis\u001b[0m \u001b[1;32mNone\u001b[0m\u001b[1;33m:\u001b[0m  \u001b[1;31m# Suppress exception chaining of cache lookup failure.\u001b[0m\u001b[1;33m\u001b[0m\u001b[1;33m\u001b[0m\u001b[0m\n\u001b[1;32m--> 177\u001b[1;33m         \u001b[0mrgba\u001b[0m \u001b[1;33m=\u001b[0m \u001b[0m_to_rgba_no_colorcycle\u001b[0m\u001b[1;33m(\u001b[0m\u001b[0mc\u001b[0m\u001b[1;33m,\u001b[0m \u001b[0malpha\u001b[0m\u001b[1;33m)\u001b[0m\u001b[1;33m\u001b[0m\u001b[1;33m\u001b[0m\u001b[0m\n\u001b[0m\u001b[0;32m    178\u001b[0m         \u001b[1;32mtry\u001b[0m\u001b[1;33m:\u001b[0m\u001b[1;33m\u001b[0m\u001b[1;33m\u001b[0m\u001b[0m\n",
      "\u001b[1;32m~\\anaconda3\\lib\\site-packages\\matplotlib\\colors.py\u001b[0m in \u001b[0;36m_to_rgba_no_colorcycle\u001b[1;34m(c, alpha)\u001b[0m\n\u001b[0;32m    239\u001b[0m         \u001b[1;31m# Test dimensionality to reject single floats.\u001b[0m\u001b[1;33m\u001b[0m\u001b[1;33m\u001b[0m\u001b[1;33m\u001b[0m\u001b[0m\n\u001b[1;32m--> 240\u001b[1;33m         \u001b[1;32mraise\u001b[0m \u001b[0mValueError\u001b[0m\u001b[1;33m(\u001b[0m\u001b[1;34m\"Invalid RGBA argument: {!r}\"\u001b[0m\u001b[1;33m.\u001b[0m\u001b[0mformat\u001b[0m\u001b[1;33m(\u001b[0m\u001b[0morig_c\u001b[0m\u001b[1;33m)\u001b[0m\u001b[1;33m)\u001b[0m\u001b[1;33m\u001b[0m\u001b[1;33m\u001b[0m\u001b[0m\n\u001b[0m\u001b[0;32m    241\u001b[0m     \u001b[1;31m# Return a tuple to prevent the cached value from being modified.\u001b[0m\u001b[1;33m\u001b[0m\u001b[1;33m\u001b[0m\u001b[1;33m\u001b[0m\u001b[0m\n",
      "\u001b[1;31mValueError\u001b[0m: Invalid RGBA argument: 1",
      "\nDuring handling of the above exception, another exception occurred:\n",
      "\u001b[1;31mValueError\u001b[0m                                Traceback (most recent call last)",
      "\u001b[1;32m<ipython-input-5-10822394d027>\u001b[0m in \u001b[0;36m<module>\u001b[1;34m\u001b[0m\n\u001b[0;32m     21\u001b[0m \u001b[1;33m\u001b[0m\u001b[0m\n\u001b[0;32m     22\u001b[0m \u001b[1;31m#Plot scatter points\u001b[0m\u001b[1;33m\u001b[0m\u001b[1;33m\u001b[0m\u001b[1;33m\u001b[0m\u001b[0m\n\u001b[1;32m---> 23\u001b[1;33m \u001b[0mplt\u001b[0m\u001b[1;33m.\u001b[0m\u001b[0mscatter\u001b[0m\u001b[1;33m(\u001b[0m\u001b[0mxaxis_2019_usa\u001b[0m\u001b[1;33m,\u001b[0m\u001b[0myaxis_2019_usa\u001b[0m\u001b[1;33m,\u001b[0m \u001b[0mc\u001b[0m \u001b[1;33m=\u001b[0m \u001b[0mcolors\u001b[0m\u001b[1;33m)\u001b[0m\u001b[1;33m\u001b[0m\u001b[1;33m\u001b[0m\u001b[0m\n\u001b[0m\u001b[0;32m     24\u001b[0m \u001b[0mplt\u001b[0m\u001b[1;33m.\u001b[0m\u001b[0mscatter\u001b[0m\u001b[1;33m(\u001b[0m\u001b[0mxaxis_2018_usa\u001b[0m\u001b[1;33m,\u001b[0m\u001b[0myaxis_2018_usa\u001b[0m\u001b[1;33m,\u001b[0m \u001b[0mc\u001b[0m \u001b[1;33m=\u001b[0m \u001b[0mcolors\u001b[0m\u001b[1;33m)\u001b[0m\u001b[1;33m\u001b[0m\u001b[1;33m\u001b[0m\u001b[0m\n\u001b[0;32m     25\u001b[0m \u001b[0mplt\u001b[0m\u001b[1;33m.\u001b[0m\u001b[0mscatter\u001b[0m\u001b[1;33m(\u001b[0m\u001b[0mxaxis_2017_usa\u001b[0m\u001b[1;33m,\u001b[0m\u001b[0myaxis_2017_usa\u001b[0m\u001b[1;33m,\u001b[0m \u001b[0mc\u001b[0m \u001b[1;33m=\u001b[0m \u001b[0mcolors\u001b[0m\u001b[1;33m)\u001b[0m\u001b[1;33m\u001b[0m\u001b[1;33m\u001b[0m\u001b[0m\n",
      "\u001b[1;32m~\\anaconda3\\lib\\site-packages\\matplotlib\\pyplot.py\u001b[0m in \u001b[0;36mscatter\u001b[1;34m(x, y, s, c, marker, cmap, norm, vmin, vmax, alpha, linewidths, verts, edgecolors, plotnonfinite, data, **kwargs)\u001b[0m\n\u001b[0;32m   2846\u001b[0m         \u001b[0mverts\u001b[0m\u001b[1;33m=\u001b[0m\u001b[0mverts\u001b[0m\u001b[1;33m,\u001b[0m \u001b[0medgecolors\u001b[0m\u001b[1;33m=\u001b[0m\u001b[0medgecolors\u001b[0m\u001b[1;33m,\u001b[0m\u001b[1;33m\u001b[0m\u001b[1;33m\u001b[0m\u001b[0m\n\u001b[0;32m   2847\u001b[0m         plotnonfinite=plotnonfinite, **({\"data\": data} if data is not\n\u001b[1;32m-> 2848\u001b[1;33m         None else {}), **kwargs)\n\u001b[0m\u001b[0;32m   2849\u001b[0m     \u001b[0msci\u001b[0m\u001b[1;33m(\u001b[0m\u001b[0m__ret\u001b[0m\u001b[1;33m)\u001b[0m\u001b[1;33m\u001b[0m\u001b[1;33m\u001b[0m\u001b[0m\n\u001b[0;32m   2850\u001b[0m     \u001b[1;32mreturn\u001b[0m \u001b[0m__ret\u001b[0m\u001b[1;33m\u001b[0m\u001b[1;33m\u001b[0m\u001b[0m\n",
      "\u001b[1;32m~\\anaconda3\\lib\\site-packages\\matplotlib\\__init__.py\u001b[0m in \u001b[0;36minner\u001b[1;34m(ax, data, *args, **kwargs)\u001b[0m\n\u001b[0;32m   1597\u001b[0m     \u001b[1;32mdef\u001b[0m \u001b[0minner\u001b[0m\u001b[1;33m(\u001b[0m\u001b[0max\u001b[0m\u001b[1;33m,\u001b[0m \u001b[1;33m*\u001b[0m\u001b[0margs\u001b[0m\u001b[1;33m,\u001b[0m \u001b[0mdata\u001b[0m\u001b[1;33m=\u001b[0m\u001b[1;32mNone\u001b[0m\u001b[1;33m,\u001b[0m \u001b[1;33m**\u001b[0m\u001b[0mkwargs\u001b[0m\u001b[1;33m)\u001b[0m\u001b[1;33m:\u001b[0m\u001b[1;33m\u001b[0m\u001b[1;33m\u001b[0m\u001b[0m\n\u001b[0;32m   1598\u001b[0m         \u001b[1;32mif\u001b[0m \u001b[0mdata\u001b[0m \u001b[1;32mis\u001b[0m \u001b[1;32mNone\u001b[0m\u001b[1;33m:\u001b[0m\u001b[1;33m\u001b[0m\u001b[1;33m\u001b[0m\u001b[0m\n\u001b[1;32m-> 1599\u001b[1;33m             \u001b[1;32mreturn\u001b[0m \u001b[0mfunc\u001b[0m\u001b[1;33m(\u001b[0m\u001b[0max\u001b[0m\u001b[1;33m,\u001b[0m \u001b[1;33m*\u001b[0m\u001b[0mmap\u001b[0m\u001b[1;33m(\u001b[0m\u001b[0msanitize_sequence\u001b[0m\u001b[1;33m,\u001b[0m \u001b[0margs\u001b[0m\u001b[1;33m)\u001b[0m\u001b[1;33m,\u001b[0m \u001b[1;33m**\u001b[0m\u001b[0mkwargs\u001b[0m\u001b[1;33m)\u001b[0m\u001b[1;33m\u001b[0m\u001b[1;33m\u001b[0m\u001b[0m\n\u001b[0m\u001b[0;32m   1600\u001b[0m \u001b[1;33m\u001b[0m\u001b[0m\n\u001b[0;32m   1601\u001b[0m         \u001b[0mbound\u001b[0m \u001b[1;33m=\u001b[0m \u001b[0mnew_sig\u001b[0m\u001b[1;33m.\u001b[0m\u001b[0mbind\u001b[0m\u001b[1;33m(\u001b[0m\u001b[0max\u001b[0m\u001b[1;33m,\u001b[0m \u001b[1;33m*\u001b[0m\u001b[0margs\u001b[0m\u001b[1;33m,\u001b[0m \u001b[1;33m**\u001b[0m\u001b[0mkwargs\u001b[0m\u001b[1;33m)\u001b[0m\u001b[1;33m\u001b[0m\u001b[1;33m\u001b[0m\u001b[0m\n",
      "\u001b[1;32m~\\anaconda3\\lib\\site-packages\\matplotlib\\axes\\_axes.py\u001b[0m in \u001b[0;36mscatter\u001b[1;34m(self, x, y, s, c, marker, cmap, norm, vmin, vmax, alpha, linewidths, verts, edgecolors, plotnonfinite, **kwargs)\u001b[0m\n\u001b[0;32m   4451\u001b[0m             self._parse_scatter_color_args(\n\u001b[0;32m   4452\u001b[0m                 \u001b[0mc\u001b[0m\u001b[1;33m,\u001b[0m \u001b[0medgecolors\u001b[0m\u001b[1;33m,\u001b[0m \u001b[0mkwargs\u001b[0m\u001b[1;33m,\u001b[0m \u001b[0mxshape\u001b[0m\u001b[1;33m,\u001b[0m \u001b[0myshape\u001b[0m\u001b[1;33m,\u001b[0m\u001b[1;33m\u001b[0m\u001b[1;33m\u001b[0m\u001b[0m\n\u001b[1;32m-> 4453\u001b[1;33m                 get_next_color_func=self._get_patches_for_fill.get_next_color)\n\u001b[0m\u001b[0;32m   4454\u001b[0m \u001b[1;33m\u001b[0m\u001b[0m\n\u001b[0;32m   4455\u001b[0m         \u001b[1;32mif\u001b[0m \u001b[0mplotnonfinite\u001b[0m \u001b[1;32mand\u001b[0m \u001b[0mcolors\u001b[0m \u001b[1;32mis\u001b[0m \u001b[1;32mNone\u001b[0m\u001b[1;33m:\u001b[0m\u001b[1;33m\u001b[0m\u001b[1;33m\u001b[0m\u001b[0m\n",
      "\u001b[1;32m~\\anaconda3\\lib\\site-packages\\matplotlib\\axes\\_axes.py\u001b[0m in \u001b[0;36m_parse_scatter_color_args\u001b[1;34m(c, edgecolors, kwargs, xshape, yshape, get_next_color_func)\u001b[0m\n\u001b[0;32m   4295\u001b[0m                         \u001b[1;34m\"acceptable for use with 'x' with size {xs}, \"\u001b[0m\u001b[1;33m\u001b[0m\u001b[1;33m\u001b[0m\u001b[0m\n\u001b[0;32m   4296\u001b[0m                         \u001b[1;34m\"'y' with size {ys}.\"\u001b[0m\u001b[1;33m\u001b[0m\u001b[1;33m\u001b[0m\u001b[0m\n\u001b[1;32m-> 4297\u001b[1;33m                             \u001b[1;33m.\u001b[0m\u001b[0mformat\u001b[0m\u001b[1;33m(\u001b[0m\u001b[0mnc\u001b[0m\u001b[1;33m=\u001b[0m\u001b[0mn_elem\u001b[0m\u001b[1;33m,\u001b[0m \u001b[0mxs\u001b[0m\u001b[1;33m=\u001b[0m\u001b[0mxsize\u001b[0m\u001b[1;33m,\u001b[0m \u001b[0mys\u001b[0m\u001b[1;33m=\u001b[0m\u001b[0mysize\u001b[0m\u001b[1;33m)\u001b[0m\u001b[1;33m\u001b[0m\u001b[1;33m\u001b[0m\u001b[0m\n\u001b[0m\u001b[0;32m   4298\u001b[0m                     )\n\u001b[0;32m   4299\u001b[0m                 \u001b[1;32melse\u001b[0m\u001b[1;33m:\u001b[0m\u001b[1;33m\u001b[0m\u001b[1;33m\u001b[0m\u001b[0m\n",
      "\u001b[1;31mValueError\u001b[0m: 'c' argument has 12 elements, which is not acceptable for use with 'x' with size 0, 'y' with size 0."
     ]
    },
    {
     "data": {
      "image/png": "[encoded data removed]",
      "text/plain": [
       "<Figure size 432x288 with 1 Axes>"
      ]
     },
     "metadata": {
      "needs_background": "light"
     },
     "output_type": "display_data"
    }
   ],
   "source": [
    "#Create US Scatter for 2017 - 2019 \n",
    "\n",
    "#Define x and y axis\n",
    "xaxis_2019_usa = df_2019_usa[\"Month\"]\n",
    "yaxis_2019_usa = df_2019_usa[\"Median Sale Price\"]\n",
    "\n",
    "xaxis_2018_usa = df_2018_usa[\"Month\"]\n",
    "yaxis_2018_usa = df_2018_usa[\"Median Sale Price\"]\n",
    "\n",
    "xaxis_2017_usa = df_2017_usa[\"Month\"]\n",
    "yaxis_2017_usa = df_2017_usa[\"Median Sale Price\"]\n",
    "\n",
    "#Create title for graph\n",
    "plt.title(\"US Housing Prices: 2017 - 2019\")\n",
    "#Create labels for graph\n",
    "plt.xlabel(\"Month\")\n",
    "plt.ylabel(\"Price\")\n",
    "\n",
    "#Select colors on gradient scale\n",
    "colors = [1,2,3,4,5,6,7,8,9,10,11,12]\n",
    "\n",
    "#Plot scatter points\n",
    "plt.scatter(xaxis_2019_usa,yaxis_2019_usa, c = colors)\n",
    "plt.scatter(xaxis_2018_usa,yaxis_2018_usa, c = colors)\n",
    "plt.scatter(xaxis_2017_usa,yaxis_2017_usa, c = colors)\n",
    "\n",
    "#Rotate text diagnoally on x-axis\n",
    "plt.xticks(rotation=45)\n",
    "\n",
    "#Show plot\n",
    "plt.show()"
   ]
  },
  {
   "cell_type": "markdown",
   "metadata": {},
   "source": [
    "From 2017 to 2019, you can see a general trend upwards for home prices for the US.  There appears to be a high point in March/April but it only happens in 2 out of the 3 years.  It's not sufficient enough to draw conclusions.  The only conclusion we can make is home prices increased in the US over those three years.  It is surprising to see for this dataset, our hypothesis is incorrect regarding home prices in December.  We expected them to be the lowest in December, but in all cases, December has relatively high prices.  "
   ]
  },
  {
   "cell_type": "code",
   "execution_count": null,
   "metadata": {},
   "outputs": [],
   "source": [
    "#Create MN Scatter for 2017 - 2019\n",
    "\n",
    "#Define x and y axis\n",
    "xaxis_2019_mn = df_2019_mn[\"Month\"]\n",
    "yaxis_2019_mn = df_2019_mn[\"Median Sale Price\"]\n",
    "\n",
    "xaxis_2018_mn = df_2018_mn[\"Month\"]\n",
    "yaxis_2018_mn = df_2018_mn[\"Median Sale Price\"]\n",
    "\n",
    "xaxis_2017_mn = df_2017_mn[\"Month\"]\n",
    "yaxis_2017_mn = df_2017_mn[\"Median Sale Price\"]\n",
    "\n",
    "#Create title for graph\n",
    "plt.title(\"MN Housing Prices 2017 - 2019\")\n",
    "#Create lables for graph\n",
    "plt.xlabel(\"Month\")\n",
    "plt.ylabel(\"Price\")\n",
    "\n",
    "#Select colors on gradient scale\n",
    "colors = [1,2,3,4,5,6,7,8,9,10,11,12]\n",
    "\n",
    "#Plot scatter points\n",
    "plt.scatter(xaxis_2019_mn,yaxis_2019_mn, c=colors)\n",
    "plt.scatter(xaxis_2018_mn,yaxis_2018_mn, c=colors)\n",
    "plt.scatter(xaxis_2017_mn,yaxis_2017_mn, c=colors)\n",
    "\n",
    "#Rotate text diagnoally on x-axis\n",
    "plt.xticks(rotation=45)\n",
    "\n",
    "#show plot\n",
    "plt.show()"
   ]
  },
  {
   "cell_type": "markdown",
   "metadata": {},
   "source": [
    "For the state of Minnesota, we see similar characteristics of a general trend upwards.  Prices are more volatile in Minnesota compared to the US with more peaks and valleys.  Since the US is much larger in scale, this could possibly be attributed to differences in size.  The US could have smoother results because it is measuring data points from a larger sample size.  Again our hypothesis on December being the best month to purchase a home is rejected.  We see December having high prices in yellow. We don't particularly see any patterns regarding the best or worst months to purchase a home.  One of the shortcomings of using the data on Zillow is that the pricing data is seasonally-adjusted.  Using seasonally-adjusted data prevents us from drawing the best conclusions regarding the best month to purchase a home.  Even with the seasonally-adjusted data, we don't really see consistent patterns that make us think there could even be a \"best month\" to purchase a home.  Perhaps it's just wishful thinking.  "
   ]
  },
  {
   "cell_type": "markdown",
   "metadata": {},
   "source": [
    "For the last 2 graphs, we are comparing median home prices against the month again.  This time it was done for 11 years from 2009 to 2019.  This will help if there are any insights on seasonality for home prices.  Furthermore, I'd like to see if the economy has fully bounced back since the housing bubble and what did that look like.  I decided to create different lines by year to stack them on top of eachother and see if there are any patterns in regards to peaks and valleys over certain months.  I plotted 11 distinct lines, instead of 1 line with all years to see if there are any monthly fluctuations in the data.  It allows you to compare the months visually to see if there are any high points or low points for any months.  "
   ]
  },
  {
   "cell_type": "code",
   "execution_count": null,
   "metadata": {},
   "outputs": [],
   "source": [
    "#Create US Line Graph for 2009 - 2019\n",
    "\n",
    "#Define x and y axis\n",
    "xaxis_2019_usa = df_2019_usa[\"Month\"]\n",
    "yaxis_2019_usa = df_2019_usa[\"Median Sale Price\"]\n",
    "\n",
    "xaxis_2018_usa = df_2018_usa[\"Month\"]\n",
    "yaxis_2018_usa = df_2018_usa[\"Median Sale Price\"]\n",
    "\n",
    "xaxis_2017_usa = df_2017_usa[\"Month\"]\n",
    "yaxis_2017_usa = df_2017_usa[\"Median Sale Price\"]\n",
    "\n",
    "xaxis_2016_usa = df_2016_usa[\"Month\"]\n",
    "yaxis_2016_usa = df_2016_usa[\"Median Sale Price\"]\n",
    "\n",
    "xaxis_2015_usa = df_2015_usa[\"Month\"]\n",
    "yaxis_2015_usa = df_2015_usa[\"Median Sale Price\"]\n",
    "\n",
    "xaxis_2014_usa = df_2014_usa[\"Month\"]\n",
    "yaxis_2014_usa = df_2014_usa[\"Median Sale Price\"]\n",
    "\n",
    "xaxis_2013_usa = df_2013_usa[\"Month\"]\n",
    "yaxis_2013_usa = df_2013_usa[\"Median Sale Price\"]\n",
    "\n",
    "xaxis_2012_usa = df_2012_usa[\"Month\"]\n",
    "yaxis_2012_usa = df_2012_usa[\"Median Sale Price\"]\n",
    "\n",
    "xaxis_2011_usa = df_2011_usa[\"Month\"]\n",
    "yaxis_2011_usa = df_2011_usa[\"Median Sale Price\"]\n",
    "\n",
    "xaxis_2010_usa = df_2010_usa[\"Month\"]\n",
    "yaxis_2010_usa = df_2010_usa[\"Median Sale Price\"]\n",
    "\n",
    "xaxis_2009_usa = df_2009_usa[\"Month\"]\n",
    "yaxis_2009_usa = df_2009_usa[\"Median Sale Price\"]\n",
    "\n",
    "\n",
    "\n",
    "#Plots line charts, adds colors for lines and creates labels for each line for the legend\n",
    "line1 = plt.plot(xaxis_2019_usa,yaxis_2019_usa, label = \"2019\", color = \"indigo\")\n",
    "line2 = plt.plot(xaxis_2018_usa,yaxis_2018_usa, label = \"2018\", color = \"midnightblue\")\n",
    "line3 = plt.plot(xaxis_2017_usa,yaxis_2017_usa, label = \"2017\", color = \"darkblue\")\n",
    "line4 = plt.plot(xaxis_2016_usa,yaxis_2016_usa, label = \"2016\", color = \"darkblue\")\n",
    "line5 = plt.plot(xaxis_2015_usa,yaxis_2015_usa, label = \"2015\", color = \"teal\")\n",
    "line6 = plt.plot(xaxis_2014_usa,yaxis_2014_usa, label = \"2014\", color = \"teal\")\n",
    "line7 = plt.plot(xaxis_2013_usa,yaxis_2013_usa, label = \"2013\", color = \"mediumseagreen\")\n",
    "line8 = plt.plot(xaxis_2012_usa,yaxis_2012_usa, label = \"2012\", color = \"mediumaquamarine\")\n",
    "line9 = plt.plot(xaxis_2011_usa,yaxis_2011_usa, label = \"2011\", color = \"lightgreen\")\n",
    "line10 = plt.plot(xaxis_2010_usa,yaxis_2010_usa, label = \"2010\", color = \"y\")\n",
    "line11 = plt.plot(xaxis_2009_usa,yaxis_2009_usa, label = \"2009\", color = \"gold\")\n",
    "\n",
    "#Rotate text diagnoally on x-axis\n",
    "plt.xticks(rotation=45)\n",
    "\n",
    "#Create title for graph\n",
    "plt.title(\"Housing Prices in US 2009 - 2019\")\n",
    "#Create lables for graph\n",
    "plt.xlabel(\"Month\")\n",
    "plt.ylabel(\"Price\")\n",
    "\n",
    "#Creates legend for line chart\n",
    "plt.legend(bbox_to_anchor=(1.25, .5), loc='right')\n",
    "\n",
    "#Show plot\n",
    "plt.show()"
   ]
  },
  {
   "cell_type": "markdown",
   "metadata": {},
   "source": [
    "The results of this graph show the housing market did bounce back from the economic recession from 2009 - 2011.  In those years you see home prices declining from left to right at the bottom of the graph.  As time passes, housing prices start to continually increase up until 2019.  "
   ]
  },
  {
   "cell_type": "code",
   "execution_count": null,
   "metadata": {},
   "outputs": [],
   "source": [
    "#Create Minnesota Line Graph for 2009 to 2019\n",
    "\n",
    "#Define x and y axis\n",
    "xaxis_2019_mn = df_2019_mn[\"Month\"]\n",
    "yaxis_2019_mn = df_2019_mn[\"Median Sale Price\"]\n",
    "\n",
    "xaxis_2018_mn = df_2018_mn[\"Month\"]\n",
    "yaxis_2018_mn = df_2018_mn[\"Median Sale Price\"]\n",
    "\n",
    "xaxis_2017_mn = df_2017_mn[\"Month\"]\n",
    "yaxis_2017_mn = df_2017_mn[\"Median Sale Price\"]\n",
    "\n",
    "xaxis_2016_mn = df_2016_mn[\"Month\"]\n",
    "yaxis_2016_mn = df_2016_mn[\"Median Sale Price\"]\n",
    "\n",
    "xaxis_2015_mn = df_2015_mn[\"Month\"]\n",
    "yaxis_2015_mn = df_2015_mn[\"Median Sale Price\"]\n",
    "\n",
    "xaxis_2014_mn = df_2014_mn[\"Month\"]\n",
    "yaxis_2014_mn = df_2014_mn[\"Median Sale Price\"]\n",
    "\n",
    "xaxis_2013_mn = df_2013_mn[\"Month\"]\n",
    "yaxis_2013_mn = df_2013_mn[\"Median Sale Price\"]\n",
    "\n",
    "xaxis_2012_mn = df_2012_mn[\"Month\"]\n",
    "yaxis_2012_mn = df_2012_mn[\"Median Sale Price\"]\n",
    "\n",
    "xaxis_2011_mn = df_2011_mn[\"Month\"]\n",
    "yaxis_2011_mn = df_2011_mn[\"Median Sale Price\"]\n",
    "\n",
    "xaxis_2010_mn = df_2010_mn[\"Month\"]\n",
    "yaxis_2010_mn = df_2010_mn[\"Median Sale Price\"]\n",
    "\n",
    "xaxis_2009_mn = df_2009_mn[\"Month\"]\n",
    "yaxis_2009_mn = df_2009_mn[\"Median Sale Price\"]\n",
    "\n",
    "\n",
    "\n",
    "#Plots line charts, adds colors for lines and creates labels for each line for the legend\n",
    "line12 = plt.plot(xaxis_2019_mn,yaxis_2019_mn, label = \"2019\", color = \"indigo\")\n",
    "line13 = plt.plot(xaxis_2018_mn,yaxis_2018_mn, label = \"2018\", color = \"midnightblue\")\n",
    "line14 = plt.plot(xaxis_2017_mn,yaxis_2017_mn, label = \"2017\", color = \"darkblue\")\n",
    "line15 = plt.plot(xaxis_2016_mn,yaxis_2016_mn, label = \"2016\", color = \"darkblue\")\n",
    "line16 = plt.plot(xaxis_2015_mn,yaxis_2015_mn, label = \"2015\", color = \"teal\")\n",
    "line17 = plt.plot(xaxis_2014_mn,yaxis_2014_mn, label = \"2014\", color = \"teal\")\n",
    "line18 = plt.plot(xaxis_2013_mn,yaxis_2013_mn, label = \"2013\", color = \"mediumseagreen\")\n",
    "line19 = plt.plot(xaxis_2012_mn,yaxis_2012_mn, label = \"2012\", color = \"mediumaquamarine\")\n",
    "line20 = plt.plot(xaxis_2011_mn,yaxis_2011_mn, label = \"2011\", color = \"lightgreen\")\n",
    "line21 = plt.plot(xaxis_2010_mn,yaxis_2010_mn, label = \"2010\", color = \"y\")\n",
    "line22 = plt.plot(xaxis_2009_mn,yaxis_2009_mn, label = \"2009\", color = \"gold\")\n",
    "\n",
    "#Rotate text diagnoally on x-axis\n",
    "plt.xticks(rotation=45)\n",
    "\n",
    "#Create title for graph\n",
    "plt.title(\"Housing Prices in MN 2009 - 2019\")\n",
    "#Create lables for graph\n",
    "plt.xlabel(\"Month\")\n",
    "plt.ylabel(\"Price\")\n",
    "\n",
    "#Creates legend for line chart\n",
    "plt.legend(bbox_to_anchor=(1.25, .5), loc='right')\n",
    "\n",
    "#Show plot\n",
    "plt.show()"
   ]
  },
  {
   "cell_type": "markdown",
   "metadata": {},
   "source": [
    "When you look at the two graphs, you can see from 2009 and 20011, home prices start to decline and then they hit an all time low in 2011.  The same pattern arises in the US data and also for the state of Minnesota.  From 2009 to 2011, home values declined by 3% each year.  In 2012, prices shot up by 9-10%.  Then after, they increased by 4.5% to 5.5% each year until 2019. "
   ]
  },
  {
   "cell_type": "markdown",
   "metadata": {},
   "source": [
    "__Conclusion:__ in the end, determining an optimal month to purchase a home does not seem feasible.  Home prices seem to be more impacted by economic factors than the time of year. Zillow's seasonally-adjusted data could possibly be diluting the changes we're seeing on a month-to-month basis.  If I had access to unadjusted data, perhaps it would be easier to see patterns in month-to-month fluctuations.  Even with the seasonally-adjusted data, there are peaks and valleys and none of them seem to be consistent based on particular months.  The one pattern that stands out is that home prices tend to increase and decrease during times of economic prosperity and downfalls.  Further analysis could be conducted to determine which economic indicators have the strongest correlation with home prices.  "
   ]
  }
 ],
 "metadata": {
  "kernelspec": {
   "display_name": "Python 3",
   "language": "python",
   "name": "python3"
  },
  "language_info": {
   "codemirror_mode": {
    "name": "ipython",
    "version": 3
   },
   "file_extension": ".py",
   "mimetype": "text/x-python",
   "name": "python",
   "nbconvert_exporter": "python",
   "pygments_lexer": "ipython3",
   "version": "3.7.6"
  }
 },
 "nbformat": 4,
 "nbformat_minor": 4
}
